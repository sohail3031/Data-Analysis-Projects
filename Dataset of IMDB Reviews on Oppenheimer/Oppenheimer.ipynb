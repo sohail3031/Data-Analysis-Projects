{
 "cells": [
  {
   "cell_type": "markdown",
   "id": "0764470a-26b7-4ed3-a1e3-1540d3d1f492",
   "metadata": {},
   "source": [
    "**Importing Libraries**"
   ]
  },
  {
   "cell_type": "code",
   "execution_count": 187,
   "id": "d29d4758-6201-4c02-935c-a22588f1270f",
   "metadata": {},
   "outputs": [],
   "source": [
    "import pandas as pd\n",
    "import seaborn as sb\n",
    "\n",
    "import string\n",
    "import warnings\n",
    "import math\n",
    "\n",
    "from nltk.corpus import stopwords\n",
    "from nltk.tokenize import word_tokenize\n",
    "from textblob import TextBlob\n",
    "from nltk import FreqDist"
   ]
  },
  {
   "cell_type": "code",
   "execution_count": 2,
   "id": "6d7483ef-a268-482c-8195-b8a276a2cda7",
   "metadata": {},
   "outputs": [],
   "source": [
    "warnings.filterwarnings(\"ignore\")"
   ]
  },
  {
   "cell_type": "code",
   "execution_count": 152,
   "id": "57ca7a46-c1d8-4d4a-91dc-8884ca086903",
   "metadata": {},
   "outputs": [],
   "source": [
    "movie_data = pd.read_csv(\"dataset/Oppenhimer_Cleaned_Reviews.csv\")"
   ]
  },
  {
   "cell_type": "markdown",
   "id": "f522e06c-099a-4cc1-ac7f-6686ce00f0a7",
   "metadata": {},
   "source": [
    "**Getting info about the data**"
   ]
  },
  {
   "cell_type": "code",
   "execution_count": 153,
   "id": "b1e78eda-56a0-4a0d-bc62-728803e5f7fe",
   "metadata": {},
   "outputs": [
    {
     "data": {
      "text/html": [
       "<div>\n",
       "<style scoped>\n",
       "    .dataframe tbody tr th:only-of-type {\n",
       "        vertical-align: middle;\n",
       "    }\n",
       "\n",
       "    .dataframe tbody tr th {\n",
       "        vertical-align: top;\n",
       "    }\n",
       "\n",
       "    .dataframe thead th {\n",
       "        text-align: right;\n",
       "    }\n",
       "</style>\n",
       "<table border=\"1\" class=\"dataframe\">\n",
       "  <thead>\n",
       "    <tr style=\"text-align: right;\">\n",
       "      <th></th>\n",
       "      <th>text</th>\n",
       "      <th>rating</th>\n",
       "    </tr>\n",
       "  </thead>\n",
       "  <tbody>\n",
       "    <tr>\n",
       "      <th>0</th>\n",
       "      <td>A challenging watch to be sure, but a worthwhi...</td>\n",
       "      <td>8</td>\n",
       "    </tr>\n",
       "    <tr>\n",
       "      <th>1</th>\n",
       "      <td>A brilliantly layered examination of a man thr...</td>\n",
       "      <td>1</td>\n",
       "    </tr>\n",
       "    <tr>\n",
       "      <th>2</th>\n",
       "      <td>Nolan delivers a powerfull biopic that shows t...</td>\n",
       "      <td>1</td>\n",
       "    </tr>\n",
       "    <tr>\n",
       "      <th>3</th>\n",
       "      <td>A Masterpiecemohameddawoud-2601919 July 2023I ...</td>\n",
       "      <td>1</td>\n",
       "    </tr>\n",
       "    <tr>\n",
       "      <th>4</th>\n",
       "      <td>And the Oscar goes to...mark-217-30703319 July...</td>\n",
       "      <td>1</td>\n",
       "    </tr>\n",
       "  </tbody>\n",
       "</table>\n",
       "</div>"
      ],
      "text/plain": [
       "                                                text rating\n",
       "0  A challenging watch to be sure, but a worthwhi...      8\n",
       "1  A brilliantly layered examination of a man thr...      1\n",
       "2  Nolan delivers a powerfull biopic that shows t...      1\n",
       "3  A Masterpiecemohameddawoud-2601919 July 2023I ...      1\n",
       "4  And the Oscar goes to...mark-217-30703319 July...      1"
      ]
     },
     "execution_count": 153,
     "metadata": {},
     "output_type": "execute_result"
    }
   ],
   "source": [
    "movie_data.head()"
   ]
  },
  {
   "cell_type": "code",
   "execution_count": 154,
   "id": "917f0b7d-4d97-4e69-84f8-048e17bcf6a9",
   "metadata": {},
   "outputs": [
    {
     "data": {
      "text/html": [
       "<div>\n",
       "<style scoped>\n",
       "    .dataframe tbody tr th:only-of-type {\n",
       "        vertical-align: middle;\n",
       "    }\n",
       "\n",
       "    .dataframe tbody tr th {\n",
       "        vertical-align: top;\n",
       "    }\n",
       "\n",
       "    .dataframe thead th {\n",
       "        text-align: right;\n",
       "    }\n",
       "</style>\n",
       "<table border=\"1\" class=\"dataframe\">\n",
       "  <thead>\n",
       "    <tr style=\"text-align: right;\">\n",
       "      <th></th>\n",
       "      <th>text</th>\n",
       "      <th>rating</th>\n",
       "    </tr>\n",
       "  </thead>\n",
       "  <tbody>\n",
       "    <tr>\n",
       "      <th>84043</th>\n",
       "      <td>Huge story, but production fails sometimesandr...</td>\n",
       "      <td>7</td>\n",
       "    </tr>\n",
       "    <tr>\n",
       "      <th>84044</th>\n",
       "      <td>Tweakedfmacr25 July 2023I suppose these review...</td>\n",
       "      <td>6</td>\n",
       "    </tr>\n",
       "    <tr>\n",
       "      <th>84045</th>\n",
       "      <td>Just a 6 for a near perfect film.m-nicolaou-86...</td>\n",
       "      <td>6</td>\n",
       "    </tr>\n",
       "    <tr>\n",
       "      <th>84046</th>\n",
       "      <td>No need to be 3 hoursscottahaynie24 July 2023A...</td>\n",
       "      <td>6</td>\n",
       "    </tr>\n",
       "    <tr>\n",
       "      <th>84047</th>\n",
       "      <td>Disappointingkrisdevos22 July 2023Totally unde...</td>\n",
       "      <td>6</td>\n",
       "    </tr>\n",
       "  </tbody>\n",
       "</table>\n",
       "</div>"
      ],
      "text/plain": [
       "                                                    text rating\n",
       "84043  Huge story, but production fails sometimesandr...      7\n",
       "84044  Tweakedfmacr25 July 2023I suppose these review...      6\n",
       "84045  Just a 6 for a near perfect film.m-nicolaou-86...      6\n",
       "84046  No need to be 3 hoursscottahaynie24 July 2023A...      6\n",
       "84047  Disappointingkrisdevos22 July 2023Totally unde...      6"
      ]
     },
     "execution_count": 154,
     "metadata": {},
     "output_type": "execute_result"
    }
   ],
   "source": [
    "movie_data.tail()"
   ]
  },
  {
   "cell_type": "code",
   "execution_count": 155,
   "id": "955dee77-cd13-4fbd-81e7-b34b4d60160d",
   "metadata": {},
   "outputs": [
    {
     "data": {
      "text/html": [
       "<div>\n",
       "<style scoped>\n",
       "    .dataframe tbody tr th:only-of-type {\n",
       "        vertical-align: middle;\n",
       "    }\n",
       "\n",
       "    .dataframe tbody tr th {\n",
       "        vertical-align: top;\n",
       "    }\n",
       "\n",
       "    .dataframe thead th {\n",
       "        text-align: right;\n",
       "    }\n",
       "</style>\n",
       "<table border=\"1\" class=\"dataframe\">\n",
       "  <thead>\n",
       "    <tr style=\"text-align: right;\">\n",
       "      <th></th>\n",
       "      <th>text</th>\n",
       "      <th>rating</th>\n",
       "    </tr>\n",
       "  </thead>\n",
       "  <tbody>\n",
       "    <tr>\n",
       "      <th>46244</th>\n",
       "      <td>This is the best movie I have ever seen. Nothi...</td>\n",
       "      <td>1</td>\n",
       "    </tr>\n",
       "    <tr>\n",
       "      <th>69752</th>\n",
       "      <td>Perfect 👌profdrdawodsulaimanali20 July 2023War...</td>\n",
       "      <td>1</td>\n",
       "    </tr>\n",
       "    <tr>\n",
       "      <th>69440</th>\n",
       "      <td>Movie of the year no doubtFiL1m21 July 2023Thi...</td>\n",
       "      <td>9</td>\n",
       "    </tr>\n",
       "    <tr>\n",
       "      <th>15126</th>\n",
       "      <td>Distinctive, mesmerizing, and unwieldysonichez...</td>\n",
       "      <td>9</td>\n",
       "    </tr>\n",
       "    <tr>\n",
       "      <th>13525</th>\n",
       "      <td>\"Prometheus stole fire from the gods and gave ...</td>\n",
       "      <td>9</td>\n",
       "    </tr>\n",
       "  </tbody>\n",
       "</table>\n",
       "</div>"
      ],
      "text/plain": [
       "                                                    text rating\n",
       "46244  This is the best movie I have ever seen. Nothi...      1\n",
       "69752  Perfect 👌profdrdawodsulaimanali20 July 2023War...      1\n",
       "69440  Movie of the year no doubtFiL1m21 July 2023Thi...      9\n",
       "15126  Distinctive, mesmerizing, and unwieldysonichez...      9\n",
       "13525  \"Prometheus stole fire from the gods and gave ...      9"
      ]
     },
     "execution_count": 155,
     "metadata": {},
     "output_type": "execute_result"
    }
   ],
   "source": [
    "movie_data.sample(5)"
   ]
  },
  {
   "cell_type": "code",
   "execution_count": 156,
   "id": "82db6cf6-2a2a-4770-9274-23a9f0f7b32d",
   "metadata": {},
   "outputs": [
    {
     "data": {
      "text/plain": [
       "(84048, 2)"
      ]
     },
     "execution_count": 156,
     "metadata": {},
     "output_type": "execute_result"
    }
   ],
   "source": [
    "movie_data.shape"
   ]
  },
  {
   "cell_type": "code",
   "execution_count": 157,
   "id": "a749643e-6d53-4272-ac68-d3b0c6a26b2f",
   "metadata": {},
   "outputs": [
    {
     "name": "stdout",
     "output_type": "stream",
     "text": [
      "<class 'pandas.core.frame.DataFrame'>\n",
      "RangeIndex: 84048 entries, 0 to 84047\n",
      "Data columns (total 2 columns):\n",
      " #   Column  Non-Null Count  Dtype \n",
      "---  ------  --------------  ----- \n",
      " 0   text    84048 non-null  object\n",
      " 1   rating  84048 non-null  object\n",
      "dtypes: object(2)\n",
      "memory usage: 1.3+ MB\n"
     ]
    }
   ],
   "source": [
    "movie_data.info()"
   ]
  },
  {
   "cell_type": "code",
   "execution_count": 158,
   "id": "d4208bf0-6691-49a9-ae92-ebdf02d72587",
   "metadata": {},
   "outputs": [
    {
     "data": {
      "text/html": [
       "<div>\n",
       "<style scoped>\n",
       "    .dataframe tbody tr th:only-of-type {\n",
       "        vertical-align: middle;\n",
       "    }\n",
       "\n",
       "    .dataframe tbody tr th {\n",
       "        vertical-align: top;\n",
       "    }\n",
       "\n",
       "    .dataframe thead th {\n",
       "        text-align: right;\n",
       "    }\n",
       "</style>\n",
       "<table border=\"1\" class=\"dataframe\">\n",
       "  <thead>\n",
       "    <tr style=\"text-align: right;\">\n",
       "      <th></th>\n",
       "      <th>text</th>\n",
       "      <th>rating</th>\n",
       "    </tr>\n",
       "  </thead>\n",
       "  <tbody>\n",
       "    <tr>\n",
       "      <th>count</th>\n",
       "      <td>84048</td>\n",
       "      <td>84048</td>\n",
       "    </tr>\n",
       "    <tr>\n",
       "      <th>unique</th>\n",
       "      <td>2036</td>\n",
       "      <td>21</td>\n",
       "    </tr>\n",
       "    <tr>\n",
       "      <th>top</th>\n",
       "      <td>Cinematic Masterpiecedeenkhalil21 July 2023Opp...</td>\n",
       "      <td>1</td>\n",
       "    </tr>\n",
       "    <tr>\n",
       "      <th>freq</th>\n",
       "      <td>131</td>\n",
       "      <td>41736</td>\n",
       "    </tr>\n",
       "  </tbody>\n",
       "</table>\n",
       "</div>"
      ],
      "text/plain": [
       "                                                     text rating\n",
       "count                                               84048  84048\n",
       "unique                                               2036     21\n",
       "top     Cinematic Masterpiecedeenkhalil21 July 2023Opp...      1\n",
       "freq                                                  131  41736"
      ]
     },
     "execution_count": 158,
     "metadata": {},
     "output_type": "execute_result"
    }
   ],
   "source": [
    "movie_data.describe()"
   ]
  },
  {
   "cell_type": "code",
   "execution_count": 159,
   "id": "29f059ad-4ce8-4f52-8580-f80960274fd4",
   "metadata": {},
   "outputs": [
    {
     "data": {
      "text/plain": [
       "text      0\n",
       "rating    0\n",
       "dtype: int64"
      ]
     },
     "execution_count": 159,
     "metadata": {},
     "output_type": "execute_result"
    }
   ],
   "source": [
    "movie_data.isnull().sum()"
   ]
  },
  {
   "cell_type": "markdown",
   "id": "94d2b11f-72cd-462a-8ec3-76d7e1f97dbc",
   "metadata": {},
   "source": [
    "*There are no null values in the dataframe.*"
   ]
  },
  {
   "cell_type": "code",
   "execution_count": 160,
   "id": "4250cad7-1038-4c02-859a-962884f7d7d5",
   "metadata": {},
   "outputs": [
    {
     "data": {
      "text/plain": [
       "82012"
      ]
     },
     "execution_count": 160,
     "metadata": {},
     "output_type": "execute_result"
    }
   ],
   "source": [
    "movie_data.duplicated().sum()"
   ]
  },
  {
   "cell_type": "code",
   "execution_count": 161,
   "id": "ca39e808-f428-4f1b-b7d9-56475812a838",
   "metadata": {},
   "outputs": [],
   "source": [
    "movie_data.drop_duplicates(inplace=True)"
   ]
  },
  {
   "cell_type": "markdown",
   "id": "1fdb902a-a3f8-4091-a504-c1307ac4c84e",
   "metadata": {},
   "source": [
    "*There was some duplicate values in the dataframe. Dropped them and now the dataframe dosen't contain any duplicate values.*"
   ]
  },
  {
   "cell_type": "code",
   "execution_count": 163,
   "id": "6d506a2c-cbea-4741-b81e-9b95e5b4d048",
   "metadata": {},
   "outputs": [
    {
     "data": {
      "text/plain": [
       "(2036, 2)"
      ]
     },
     "execution_count": 163,
     "metadata": {},
     "output_type": "execute_result"
    }
   ],
   "source": [
    "movie_data.shape"
   ]
  },
  {
   "cell_type": "markdown",
   "id": "36de8ef9-d721-446c-80d8-f1c3387354ab",
   "metadata": {},
   "source": [
    "**Checking \"rating\" column and cleaning it**"
   ]
  },
  {
   "cell_type": "code",
   "execution_count": 164,
   "id": "bd582676-99da-48f8-81d9-dfabc3ef6ed0",
   "metadata": {},
   "outputs": [
    {
     "data": {
      "text/plain": [
       "array(['8', '1', '9', '7', '5', 'M', '6', 'O', '4', 'B', 'E', 'S', 'I',\n",
       "       '3', 'T', '2', 'A', 'D', 'G', 'C', 'J'], dtype=object)"
      ]
     },
     "execution_count": 164,
     "metadata": {},
     "output_type": "execute_result"
    }
   ],
   "source": [
    "movie_data[\"rating\"].unique()"
   ]
  },
  {
   "cell_type": "markdown",
   "id": "a83d83a0-da7e-4c18-9b2e-cfa9e4ee8e62",
   "metadata": {},
   "source": [
    "*There are some categorical values in \"rating\" column, so changing them to mean of the \"rating\" column*"
   ]
  },
  {
   "cell_type": "markdown",
   "id": "1b5fe031-c223-4d2b-a8df-bc79771b6e61",
   "metadata": {},
   "source": [
    "*Lets replace all the categorical values to 10*"
   ]
  },
  {
   "cell_type": "code",
   "execution_count": 165,
   "id": "3626c838-59a6-4253-842c-6b79321b6c20",
   "metadata": {},
   "outputs": [
    {
     "data": {
      "text/plain": [
       "array(['8', '1', '9', '7', '5', 10, '6', '4', '3', '2'], dtype=object)"
      ]
     },
     "execution_count": 165,
     "metadata": {},
     "output_type": "execute_result"
    }
   ],
   "source": [
    "# function to replace categorical values of \"rating\" column to -1\n",
    "def clean_rating_column(rating):\n",
    "    if rating in string.ascii_uppercase:\n",
    "        return 10\n",
    "    return rating\n",
    "\n",
    "movie_data[\"rating\"] = movie_data[\"rating\"].apply(clean_rating_column)\n",
    "\n",
    "movie_data[\"rating\"].unique()"
   ]
  },
  {
   "cell_type": "code",
   "execution_count": 166,
   "id": "eec61171-91e7-4dae-8808-fba5b7f31478",
   "metadata": {},
   "outputs": [
    {
     "data": {
      "text/plain": [
       "text      object\n",
       "rating    object\n",
       "dtype: object"
      ]
     },
     "execution_count": 166,
     "metadata": {},
     "output_type": "execute_result"
    }
   ],
   "source": [
    "movie_data.dtypes"
   ]
  },
  {
   "cell_type": "code",
   "execution_count": 167,
   "id": "4af28e56-3ef3-4f5c-ba56-8dfbb5b95fb9",
   "metadata": {},
   "outputs": [],
   "source": [
    "# changing the datatype of rating column to int\n",
    "movie_data[\"rating\"] = movie_data[\"rating\"].astype(int)"
   ]
  },
  {
   "cell_type": "code",
   "execution_count": 168,
   "id": "40229220-2581-43f5-9769-37c65ed3dbcf",
   "metadata": {},
   "outputs": [
    {
     "data": {
      "text/plain": [
       "text      object\n",
       "rating     int32\n",
       "dtype: object"
      ]
     },
     "execution_count": 168,
     "metadata": {},
     "output_type": "execute_result"
    }
   ],
   "source": [
    "movie_data.dtypes"
   ]
  },
  {
   "cell_type": "markdown",
   "id": "49b1e383-58a4-45bb-97a2-e1d6a403ba6b",
   "metadata": {},
   "source": [
    "*Now, \"rating\" column is clean. Lets create a separate column and divide all the ratings into three categories based on mean.*"
   ]
  },
  {
   "cell_type": "code",
   "execution_count": 169,
   "id": "21323c2a-2fc1-47ca-b958-c6e8928579f8",
   "metadata": {},
   "outputs": [
    {
     "data": {
      "text/html": [
       "<div>\n",
       "<style scoped>\n",
       "    .dataframe tbody tr th:only-of-type {\n",
       "        vertical-align: middle;\n",
       "    }\n",
       "\n",
       "    .dataframe tbody tr th {\n",
       "        vertical-align: top;\n",
       "    }\n",
       "\n",
       "    .dataframe thead th {\n",
       "        text-align: right;\n",
       "    }\n",
       "</style>\n",
       "<table border=\"1\" class=\"dataframe\">\n",
       "  <thead>\n",
       "    <tr style=\"text-align: right;\">\n",
       "      <th></th>\n",
       "      <th>text</th>\n",
       "      <th>rating</th>\n",
       "      <th>rating_category</th>\n",
       "    </tr>\n",
       "  </thead>\n",
       "  <tbody>\n",
       "    <tr>\n",
       "      <th>0</th>\n",
       "      <td>A challenging watch to be sure, but a worthwhi...</td>\n",
       "      <td>8</td>\n",
       "      <td>High</td>\n",
       "    </tr>\n",
       "    <tr>\n",
       "      <th>1</th>\n",
       "      <td>A brilliantly layered examination of a man thr...</td>\n",
       "      <td>1</td>\n",
       "      <td>Low</td>\n",
       "    </tr>\n",
       "    <tr>\n",
       "      <th>2</th>\n",
       "      <td>Nolan delivers a powerfull biopic that shows t...</td>\n",
       "      <td>1</td>\n",
       "      <td>Low</td>\n",
       "    </tr>\n",
       "    <tr>\n",
       "      <th>3</th>\n",
       "      <td>A Masterpiecemohameddawoud-2601919 July 2023I ...</td>\n",
       "      <td>1</td>\n",
       "      <td>Low</td>\n",
       "    </tr>\n",
       "    <tr>\n",
       "      <th>4</th>\n",
       "      <td>And the Oscar goes to...mark-217-30703319 July...</td>\n",
       "      <td>1</td>\n",
       "      <td>Low</td>\n",
       "    </tr>\n",
       "  </tbody>\n",
       "</table>\n",
       "</div>"
      ],
      "text/plain": [
       "                                                text  rating rating_category\n",
       "0  A challenging watch to be sure, but a worthwhi...       8            High\n",
       "1  A brilliantly layered examination of a man thr...       1             Low\n",
       "2  Nolan delivers a powerfull biopic that shows t...       1             Low\n",
       "3  A Masterpiecemohameddawoud-2601919 July 2023I ...       1             Low\n",
       "4  And the Oscar goes to...mark-217-30703319 July...       1             Low"
      ]
     },
     "execution_count": 169,
     "metadata": {},
     "output_type": "execute_result"
    }
   ],
   "source": [
    "# function to divide all the ratings into three categories\n",
    "def divide_ratings_into_categories(rating):\n",
    "    if rating < rating_mean - 1:\n",
    "        return \"Low\"\n",
    "    elif rating_mean - 1 <= rating <= rating_mean + 1:\n",
    "        return \"Medium\"\n",
    "    return \"High\"\n",
    "\n",
    "movie_data[\"rating_category\"] = movie_data[\"rating\"].apply(divide_ratings_into_categories)\n",
    "\n",
    "movie_data.head()"
   ]
  },
  {
   "cell_type": "markdown",
   "id": "a9b2df21-082d-412d-ba7c-535a17ae667d",
   "metadata": {},
   "source": [
    "*Checking the \"text\" column*"
   ]
  },
  {
   "cell_type": "code",
   "execution_count": 170,
   "id": "7bdb7280-0111-4b96-bde9-f85f87a166b0",
   "metadata": {},
   "outputs": [
    {
     "data": {
      "text/plain": [
       "\"A challenging watch to be sure, but a worthwhile one.Jeremy_Urquhart20 July 2023One of the most anticipated films of the year for many people, myself included, Oppenheimer largely delivers. Much of it's great. I feel like I loved two of its three hours, and liked the other hour.... but it's that fact that stops me from adoring the entire thing. I know with Christopher Nolan's Dunkirk, that clicked on a second watch, so maybe Oppenheimer will need one too. That being said, I don't feel the need to rush out and see it again too soon, because it was a long and exhausting film.But in many ways, I can't deny it was an exceptionally well made one. It looks and sounds as amazing as you'd expect, feeling as though it accurately captures the time period it's set in, and containing amazing sound design and one of the year's best scores so far. Every performance is good to great, but the film belongs to Cillian Murphy, and I feel like he's the lead actor to beat at this stage, if we're talking (early) awards consideration.The film's at its best when it focuses on being a psychological thriller featuring a famous historical figure, and at one point, it even turns into a psychological horror film. There's one sequence in here involving a speech that's particularly terrifying. It also manages to have some very suspenseful moments, even though its story is commonly known history at this point.I did really feel the length in the final hour, though, and maybe I wish that final act had been more of an extended epilogue, rather than a whole third of the movie. I currently feel as though I would've loved Oppenheimer more had it been 2.5 hours instead of 3, but nothing about it was bad by any means; just a little patience testing (this is very subjective - I remember feeling like the similarly long Babylon totally justified its runtime, though others didn't feel that way).I'm left feeling like I watched a film that wasn't a slam dunk, but was incredible for more of its runtime than it wasn't. And that's still worth celebrating, and makes Oppenheimer worth seeing in cinemas for sure.685 out of 819 found this helpful. Was this review helpful? Sign in to vote.Permalink\""
      ]
     },
     "execution_count": 170,
     "metadata": {},
     "output_type": "execute_result"
    }
   ],
   "source": [
    "movie_data[\"text\"][0]"
   ]
  },
  {
   "cell_type": "code",
   "execution_count": 171,
   "id": "78f1e28e-86ff-4d62-8912-e23fde18d310",
   "metadata": {},
   "outputs": [],
   "source": [
    "# function to clean the text column\n",
    "def clean_text_column(text):\n",
    "    return \"\".join([i for i in text if i not in string.punctuation]).lower()\n",
    "\n",
    "movie_data[\"text\"] = movie_data[\"text\"].apply(clean_text_column)"
   ]
  },
  {
   "cell_type": "code",
   "execution_count": 172,
   "id": "aa99c383-b8bc-41d6-81fe-4b2b107ede3e",
   "metadata": {},
   "outputs": [
    {
     "data": {
      "text/plain": [
       "0    a challenging watch to be sure but a worthwhil...\n",
       "1    a brilliantly layered examination of a man thr...\n",
       "2    nolan delivers a powerfull biopic that shows t...\n",
       "3    a masterpiecemohameddawoud2601919 july 2023i m...\n",
       "4    and the oscar goes tomark21730703319 july 2023...\n",
       "Name: text, dtype: object"
      ]
     },
     "execution_count": 172,
     "metadata": {},
     "output_type": "execute_result"
    }
   ],
   "source": [
    "movie_data[\"text\"].head()"
   ]
  },
  {
   "cell_type": "code",
   "execution_count": 173,
   "id": "5e76ddfa-2676-4cee-9e59-130446e008a5",
   "metadata": {},
   "outputs": [],
   "source": [
    "# removing stop words from \"text\" column\n",
    "stop_words = stopwords.words(\"english\")\n",
    "\n",
    "movie_data[\"text\"] = movie_data[\"text\"].apply(lambda x: \" \".join([i for i in x.split() if i not in stop_words]))"
   ]
  },
  {
   "cell_type": "code",
   "execution_count": 174,
   "id": "0b5dea28-bbb5-4610-ba16-89d49555bbd7",
   "metadata": {},
   "outputs": [
    {
     "data": {
      "text/plain": [
       "0    challenging watch sure worthwhile onejeremyurq...\n",
       "1    brilliantly layered examination man throughout...\n",
       "2    nolan delivers powerfull biopic shows dark sid...\n",
       "3    masterpiecemohameddawoud2601919 july 2023i may...\n",
       "4    oscar goes tomark21730703319 july 2023im still...\n",
       "Name: text, dtype: object"
      ]
     },
     "execution_count": 174,
     "metadata": {},
     "output_type": "execute_result"
    }
   ],
   "source": [
    "movie_data[\"text\"].head()"
   ]
  },
  {
   "cell_type": "markdown",
   "id": "e32991e3-2d69-4e56-a55c-a81ece2dd958",
   "metadata": {},
   "source": [
    "*Creating a column for \"score\" column based on \"Polarity\" and \"Subjectivity\" of the \"text\" column*"
   ]
  },
  {
   "cell_type": "code",
   "execution_count": 175,
   "id": "c5ac25ad-b7e3-477d-812f-972a05d3d0e7",
   "metadata": {},
   "outputs": [],
   "source": [
    "movie_data[\"score\"] = movie_data[\"text\"].apply(lambda x: TextBlob(x).sentiment.polarity)"
   ]
  },
  {
   "cell_type": "code",
   "execution_count": 176,
   "id": "64f1448c-c0f4-4d91-9d36-944c76b13a2e",
   "metadata": {},
   "outputs": [
    {
     "data": {
      "text/html": [
       "<div>\n",
       "<style scoped>\n",
       "    .dataframe tbody tr th:only-of-type {\n",
       "        vertical-align: middle;\n",
       "    }\n",
       "\n",
       "    .dataframe tbody tr th {\n",
       "        vertical-align: top;\n",
       "    }\n",
       "\n",
       "    .dataframe thead th {\n",
       "        text-align: right;\n",
       "    }\n",
       "</style>\n",
       "<table border=\"1\" class=\"dataframe\">\n",
       "  <thead>\n",
       "    <tr style=\"text-align: right;\">\n",
       "      <th></th>\n",
       "      <th>text</th>\n",
       "      <th>rating</th>\n",
       "      <th>rating_category</th>\n",
       "      <th>score</th>\n",
       "    </tr>\n",
       "  </thead>\n",
       "  <tbody>\n",
       "    <tr>\n",
       "      <th>0</th>\n",
       "      <td>challenging watch sure worthwhile onejeremyurq...</td>\n",
       "      <td>8</td>\n",
       "      <td>High</td>\n",
       "      <td>0.259435</td>\n",
       "    </tr>\n",
       "    <tr>\n",
       "      <th>1</th>\n",
       "      <td>brilliantly layered examination man throughout...</td>\n",
       "      <td>1</td>\n",
       "      <td>Low</td>\n",
       "      <td>0.163493</td>\n",
       "    </tr>\n",
       "    <tr>\n",
       "      <th>2</th>\n",
       "      <td>nolan delivers powerfull biopic shows dark sid...</td>\n",
       "      <td>1</td>\n",
       "      <td>Low</td>\n",
       "      <td>0.297368</td>\n",
       "    </tr>\n",
       "    <tr>\n",
       "      <th>3</th>\n",
       "      <td>masterpiecemohameddawoud2601919 july 2023i may...</td>\n",
       "      <td>1</td>\n",
       "      <td>Low</td>\n",
       "      <td>0.234615</td>\n",
       "    </tr>\n",
       "    <tr>\n",
       "      <th>4</th>\n",
       "      <td>oscar goes tomark21730703319 july 2023im still...</td>\n",
       "      <td>1</td>\n",
       "      <td>Low</td>\n",
       "      <td>0.225556</td>\n",
       "    </tr>\n",
       "  </tbody>\n",
       "</table>\n",
       "</div>"
      ],
      "text/plain": [
       "                                                text  rating rating_category  \\\n",
       "0  challenging watch sure worthwhile onejeremyurq...       8            High   \n",
       "1  brilliantly layered examination man throughout...       1             Low   \n",
       "2  nolan delivers powerfull biopic shows dark sid...       1             Low   \n",
       "3  masterpiecemohameddawoud2601919 july 2023i may...       1             Low   \n",
       "4  oscar goes tomark21730703319 july 2023im still...       1             Low   \n",
       "\n",
       "      score  \n",
       "0  0.259435  \n",
       "1  0.163493  \n",
       "2  0.297368  \n",
       "3  0.234615  \n",
       "4  0.225556  "
      ]
     },
     "execution_count": 176,
     "metadata": {},
     "output_type": "execute_result"
    }
   ],
   "source": [
    "movie_data.head()"
   ]
  },
  {
   "cell_type": "markdown",
   "id": "a86086b5-70f4-4587-9f89-791020ad5e0f",
   "metadata": {},
   "source": [
    "*We got the score based on \"Polarity\" of the text. Now, let's create another column that represents review based on the \"score\" column.*"
   ]
  },
  {
   "cell_type": "code",
   "execution_count": 177,
   "id": "19f70659-169a-4911-8f1b-2f160af47370",
   "metadata": {},
   "outputs": [],
   "source": [
    "def get_review_from_score(score):\n",
    "  if score >= 0.5:\n",
    "    return \"Positive\"\n",
    "  elif score <= -0.5:\n",
    "    return \"Negative\"\n",
    "  else:\n",
    "    return \"Neutral\"\n",
    "\n",
    "movie_data[\"review\"] = movie_data[\"score\"].apply(get_review_from_score)"
   ]
  },
  {
   "cell_type": "code",
   "execution_count": 178,
   "id": "176c2bba-112f-4443-aa46-0f4861a3a9c9",
   "metadata": {},
   "outputs": [
    {
     "data": {
      "text/html": [
       "<div>\n",
       "<style scoped>\n",
       "    .dataframe tbody tr th:only-of-type {\n",
       "        vertical-align: middle;\n",
       "    }\n",
       "\n",
       "    .dataframe tbody tr th {\n",
       "        vertical-align: top;\n",
       "    }\n",
       "\n",
       "    .dataframe thead th {\n",
       "        text-align: right;\n",
       "    }\n",
       "</style>\n",
       "<table border=\"1\" class=\"dataframe\">\n",
       "  <thead>\n",
       "    <tr style=\"text-align: right;\">\n",
       "      <th></th>\n",
       "      <th>text</th>\n",
       "      <th>rating</th>\n",
       "      <th>rating_category</th>\n",
       "      <th>score</th>\n",
       "      <th>review</th>\n",
       "    </tr>\n",
       "  </thead>\n",
       "  <tbody>\n",
       "    <tr>\n",
       "      <th>0</th>\n",
       "      <td>challenging watch sure worthwhile onejeremyurq...</td>\n",
       "      <td>8</td>\n",
       "      <td>High</td>\n",
       "      <td>0.259435</td>\n",
       "      <td>Neutral</td>\n",
       "    </tr>\n",
       "    <tr>\n",
       "      <th>1</th>\n",
       "      <td>brilliantly layered examination man throughout...</td>\n",
       "      <td>1</td>\n",
       "      <td>Low</td>\n",
       "      <td>0.163493</td>\n",
       "      <td>Neutral</td>\n",
       "    </tr>\n",
       "    <tr>\n",
       "      <th>2</th>\n",
       "      <td>nolan delivers powerfull biopic shows dark sid...</td>\n",
       "      <td>1</td>\n",
       "      <td>Low</td>\n",
       "      <td>0.297368</td>\n",
       "      <td>Neutral</td>\n",
       "    </tr>\n",
       "    <tr>\n",
       "      <th>3</th>\n",
       "      <td>masterpiecemohameddawoud2601919 july 2023i may...</td>\n",
       "      <td>1</td>\n",
       "      <td>Low</td>\n",
       "      <td>0.234615</td>\n",
       "      <td>Neutral</td>\n",
       "    </tr>\n",
       "    <tr>\n",
       "      <th>4</th>\n",
       "      <td>oscar goes tomark21730703319 july 2023im still...</td>\n",
       "      <td>1</td>\n",
       "      <td>Low</td>\n",
       "      <td>0.225556</td>\n",
       "      <td>Neutral</td>\n",
       "    </tr>\n",
       "  </tbody>\n",
       "</table>\n",
       "</div>"
      ],
      "text/plain": [
       "                                                text  rating rating_category  \\\n",
       "0  challenging watch sure worthwhile onejeremyurq...       8            High   \n",
       "1  brilliantly layered examination man throughout...       1             Low   \n",
       "2  nolan delivers powerfull biopic shows dark sid...       1             Low   \n",
       "3  masterpiecemohameddawoud2601919 july 2023i may...       1             Low   \n",
       "4  oscar goes tomark21730703319 july 2023im still...       1             Low   \n",
       "\n",
       "      score   review  \n",
       "0  0.259435  Neutral  \n",
       "1  0.163493  Neutral  \n",
       "2  0.297368  Neutral  \n",
       "3  0.234615  Neutral  \n",
       "4  0.225556  Neutral  "
      ]
     },
     "execution_count": 178,
     "metadata": {},
     "output_type": "execute_result"
    }
   ],
   "source": [
    "movie_data.head()"
   ]
  },
  {
   "cell_type": "code",
   "execution_count": 179,
   "id": "6c971322-d7b4-42dc-a0f8-43eeecd2c35e",
   "metadata": {},
   "outputs": [
    {
     "data": {
      "text/html": [
       "<div>\n",
       "<style scoped>\n",
       "    .dataframe tbody tr th:only-of-type {\n",
       "        vertical-align: middle;\n",
       "    }\n",
       "\n",
       "    .dataframe tbody tr th {\n",
       "        vertical-align: top;\n",
       "    }\n",
       "\n",
       "    .dataframe thead th {\n",
       "        text-align: right;\n",
       "    }\n",
       "</style>\n",
       "<table border=\"1\" class=\"dataframe\">\n",
       "  <thead>\n",
       "    <tr style=\"text-align: right;\">\n",
       "      <th></th>\n",
       "      <th>text</th>\n",
       "      <th>rating</th>\n",
       "      <th>rating_category</th>\n",
       "      <th>score</th>\n",
       "      <th>review</th>\n",
       "    </tr>\n",
       "  </thead>\n",
       "  <tbody>\n",
       "    <tr>\n",
       "      <th>84043</th>\n",
       "      <td>huge story production fails sometimesandrevers...</td>\n",
       "      <td>7</td>\n",
       "      <td>High</td>\n",
       "      <td>-0.008333</td>\n",
       "      <td>Neutral</td>\n",
       "    </tr>\n",
       "    <tr>\n",
       "      <th>84044</th>\n",
       "      <td>tweakedfmacr25 july 2023i suppose reviews twea...</td>\n",
       "      <td>6</td>\n",
       "      <td>Medium</td>\n",
       "      <td>0.173958</td>\n",
       "      <td>Neutral</td>\n",
       "    </tr>\n",
       "    <tr>\n",
       "      <th>84045</th>\n",
       "      <td>6 near perfect filmmnicolaou8666125424 july 20...</td>\n",
       "      <td>6</td>\n",
       "      <td>Medium</td>\n",
       "      <td>0.228161</td>\n",
       "      <td>Neutral</td>\n",
       "    </tr>\n",
       "    <tr>\n",
       "      <th>84046</th>\n",
       "      <td>need 3 hoursscottahaynie24 july 2023acting tre...</td>\n",
       "      <td>6</td>\n",
       "      <td>Medium</td>\n",
       "      <td>0.169697</td>\n",
       "      <td>Neutral</td>\n",
       "    </tr>\n",
       "    <tr>\n",
       "      <th>84047</th>\n",
       "      <td>disappointingkrisdevos22 july 2023totally unde...</td>\n",
       "      <td>6</td>\n",
       "      <td>Medium</td>\n",
       "      <td>0.138056</td>\n",
       "      <td>Neutral</td>\n",
       "    </tr>\n",
       "  </tbody>\n",
       "</table>\n",
       "</div>"
      ],
      "text/plain": [
       "                                                    text  rating  \\\n",
       "84043  huge story production fails sometimesandrevers...       7   \n",
       "84044  tweakedfmacr25 july 2023i suppose reviews twea...       6   \n",
       "84045  6 near perfect filmmnicolaou8666125424 july 20...       6   \n",
       "84046  need 3 hoursscottahaynie24 july 2023acting tre...       6   \n",
       "84047  disappointingkrisdevos22 july 2023totally unde...       6   \n",
       "\n",
       "      rating_category     score   review  \n",
       "84043            High -0.008333  Neutral  \n",
       "84044          Medium  0.173958  Neutral  \n",
       "84045          Medium  0.228161  Neutral  \n",
       "84046          Medium  0.169697  Neutral  \n",
       "84047          Medium  0.138056  Neutral  "
      ]
     },
     "execution_count": 179,
     "metadata": {},
     "output_type": "execute_result"
    }
   ],
   "source": [
    "movie_data.tail()"
   ]
  },
  {
   "cell_type": "code",
   "execution_count": 180,
   "id": "cec661e7-60c9-46a8-a4b4-4c8f398bdb13",
   "metadata": {},
   "outputs": [
    {
     "data": {
      "text/html": [
       "<div>\n",
       "<style scoped>\n",
       "    .dataframe tbody tr th:only-of-type {\n",
       "        vertical-align: middle;\n",
       "    }\n",
       "\n",
       "    .dataframe tbody tr th {\n",
       "        vertical-align: top;\n",
       "    }\n",
       "\n",
       "    .dataframe thead th {\n",
       "        text-align: right;\n",
       "    }\n",
       "</style>\n",
       "<table border=\"1\" class=\"dataframe\">\n",
       "  <thead>\n",
       "    <tr style=\"text-align: right;\">\n",
       "      <th></th>\n",
       "      <th>text</th>\n",
       "      <th>rating</th>\n",
       "      <th>rating_category</th>\n",
       "      <th>score</th>\n",
       "      <th>review</th>\n",
       "    </tr>\n",
       "  </thead>\n",
       "  <tbody>\n",
       "    <tr>\n",
       "      <th>8378</th>\n",
       "      <td>oppenheimer captivating cinematic journey hist...</td>\n",
       "      <td>1</td>\n",
       "      <td>Low</td>\n",
       "      <td>0.116667</td>\n",
       "      <td>Neutral</td>\n",
       "    </tr>\n",
       "    <tr>\n",
       "      <th>8397</th>\n",
       "      <td>finished 24 hours ago cant stop thinking itale...</td>\n",
       "      <td>1</td>\n",
       "      <td>Low</td>\n",
       "      <td>0.465734</td>\n",
       "      <td>Neutral</td>\n",
       "    </tr>\n",
       "    <tr>\n",
       "      <th>47953</th>\n",
       "      <td>amazing cast two serious flawswhitnall23 july ...</td>\n",
       "      <td>7</td>\n",
       "      <td>High</td>\n",
       "      <td>0.067041</td>\n",
       "      <td>Neutral</td>\n",
       "    </tr>\n",
       "    <tr>\n",
       "      <th>29882</th>\n",
       "      <td>exceptional incredible mature somewhat depress...</td>\n",
       "      <td>9</td>\n",
       "      <td>High</td>\n",
       "      <td>0.521429</td>\n",
       "      <td>Positive</td>\n",
       "    </tr>\n",
       "    <tr>\n",
       "      <th>46411</th>\n",
       "      <td>another nolan masterpiecedamithudilanka23 july...</td>\n",
       "      <td>1</td>\n",
       "      <td>Low</td>\n",
       "      <td>0.350000</td>\n",
       "      <td>Neutral</td>\n",
       "    </tr>\n",
       "  </tbody>\n",
       "</table>\n",
       "</div>"
      ],
      "text/plain": [
       "                                                    text  rating  \\\n",
       "8378   oppenheimer captivating cinematic journey hist...       1   \n",
       "8397   finished 24 hours ago cant stop thinking itale...       1   \n",
       "47953  amazing cast two serious flawswhitnall23 july ...       7   \n",
       "29882  exceptional incredible mature somewhat depress...       9   \n",
       "46411  another nolan masterpiecedamithudilanka23 july...       1   \n",
       "\n",
       "      rating_category     score    review  \n",
       "8378              Low  0.116667   Neutral  \n",
       "8397              Low  0.465734   Neutral  \n",
       "47953            High  0.067041   Neutral  \n",
       "29882            High  0.521429  Positive  \n",
       "46411             Low  0.350000   Neutral  "
      ]
     },
     "execution_count": 180,
     "metadata": {},
     "output_type": "execute_result"
    }
   ],
   "source": [
    "movie_data.sample(5)"
   ]
  },
  {
   "cell_type": "markdown",
   "id": "eccfc805-51ff-44b4-994f-642170ce95cf",
   "metadata": {},
   "source": [
    "**Data Visualization**"
   ]
  },
  {
   "cell_type": "code",
   "execution_count": 181,
   "id": "1f81aad0-9c4b-4d55-9903-ca357de62f51",
   "metadata": {},
   "outputs": [
    {
     "data": {
      "image/png": "[encoded data removed]",
      "text/plain": [
       "<Figure size 640x480 with 1 Axes>"
      ]
     },
     "metadata": {},
     "output_type": "display_data"
    }
   ],
   "source": [
    "# a graph to represent the count of ratings\n",
    "rating_count = sb.countplot(x=\"rating\", data=movie_data)\n",
    "\n",
    "for i in rating_count.containers:\n",
    "  rating_count.bar_label(i)"
   ]
  },
  {
   "cell_type": "code",
   "execution_count": 182,
   "id": "cd01a524-7a7d-4d0c-9bc6-5e367515cac7",
   "metadata": {},
   "outputs": [
    {
     "data": {
      "image/png": "[encoded data removed]",
      "text/plain": [
       "<Figure size 640x480 with 1 Axes>"
      ]
     },
     "metadata": {},
     "output_type": "display_data"
    }
   ],
   "source": [
    "# a graph to show tha count of \"raring_category\"\n",
    "rating_category_count = sb.countplot(x=\"rating_category\", data=movie_data)\n",
    "\n",
    "for i in rating_category_count.containers:\n",
    "  rating_category_count.bar_label(i)"
   ]
  },
  {
   "cell_type": "code",
   "execution_count": 183,
   "id": "22058d42-b3e9-46c7-a4d6-8ef5942f6137",
   "metadata": {},
   "outputs": [
    {
     "data": {
      "image/png": "[encoded data removed]",
      "text/plain": [
       "<Figure size 640x480 with 1 Axes>"
      ]
     },
     "metadata": {},
     "output_type": "display_data"
    }
   ],
   "source": [
    "# a garph to show the count of review column\n",
    "review_count = sb.countplot(x=\"review\", data=movie_data)\n",
    "\n",
    "for i in review_count.containers:\n",
    "  review_count.bar_label(i)"
   ]
  },
  {
   "cell_type": "code",
   "execution_count": 184,
   "id": "b5324cbb-629f-44c2-825d-ccfd2b5ad84f",
   "metadata": {},
   "outputs": [
    {
     "data": {
      "text/plain": [
       "<Axes: xlabel='rating_category', ylabel='rating'>"
      ]
     },
     "execution_count": 184,
     "metadata": {},
     "output_type": "execute_result"
    },
    {
     "data": {
      "image/png": "[encoded data removed]",
      "text/plain": [
       "<Figure size 640x480 with 1 Axes>"
      ]
     },
     "metadata": {},
     "output_type": "display_data"
    }
   ],
   "source": [
    "# grouping rating_category column based on the ratings\n",
    "ratings_by_category = movie_data.groupby([\"rating_category\"], as_index=False)[\"rating\"].sum().sort_values(by=\"rating\", ascending=False)\n",
    "\n",
    "sb.barplot(x=\"rating_category\", y=\"rating\", data=ratings_by_category)"
   ]
  },
  {
   "cell_type": "code",
   "execution_count": 185,
   "id": "8591a39b-00c2-4d89-8511-0aa77f637556",
   "metadata": {},
   "outputs": [
    {
     "data": {
      "text/plain": [
       "<Axes: xlabel='review', ylabel='rating'>"
      ]
     },
     "execution_count": 185,
     "metadata": {},
     "output_type": "execute_result"
    },
    {
     "data": {
      "image/png": "[encoded data removed]",
      "text/plain": [
       "<Figure size 640x480 with 1 Axes>"
      ]
     },
     "metadata": {},
     "output_type": "display_data"
    }
   ],
   "source": [
    "# grouping review column based on the ratings\n",
    "review_by_ratings = movie_data.groupby([\"review\"], as_index=False)[\"rating\"].sum().sort_values(by=\"rating\", ascending=False)\n",
    "\n",
    "sb.barplot(x=\"review\", y=\"rating\", data=review_by_ratings)"
   ]
  },
  {
   "cell_type": "code",
   "execution_count": 186,
   "id": "da87a420-f943-41db-a7af-3be928631fd8",
   "metadata": {},
   "outputs": [
    {
     "data": {
      "image/png": "[encoded data removed]",
      "text/plain": [
       "<Figure size 640x480 with 1 Axes>"
      ]
     },
     "metadata": {},
     "output_type": "display_data"
    }
   ],
   "source": [
    "# grouping rating_category and review columns\n",
    "category_by_review = sb.countplot(data=movie_data, x=\"rating_category\", hue=\"review\")\n",
    "\n",
    "for i in category_by_review.containers:\n",
    "    category_by_review.bar_label(i)"
   ]
  },
  {
   "cell_type": "code",
   "execution_count": null,
   "id": "3e119b9c-97be-409a-9576-9ed795e21405",
   "metadata": {},
   "outputs": [],
   "source": []
  }
 ],
 "metadata": {
  "kernelspec": {
   "display_name": "Python 3 (ipykernel)",
   "language": "python",
   "name": "python3"
  },
  "language_info": {
   "codemirror_mode": {
    "name": "ipython",
    "version": 3
   },
   "file_extension": ".py",
   "mimetype": "text/x-python",
   "name": "python",
   "nbconvert_exporter": "python",
   "pygments_lexer": "ipython3",
   "version": "3.11.4"
  }
 },
 "nbformat": 4,
 "nbformat_minor": 5
}
