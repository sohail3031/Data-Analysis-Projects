{
 "cells": [
  {
   "cell_type": "markdown",
   "id": "039886c6-c70b-4057-9338-50654dfad40d",
   "metadata": {},
   "source": [
    "# Importing libraries"
   ]
  },
  {
   "cell_type": "code",
   "execution_count": 347,
   "id": "ed06a1a6-8c1b-493f-9234-c5fe9d9758eb",
   "metadata": {},
   "outputs": [],
   "source": [
    "import pandas as pd"
   ]
  },
  {
   "cell_type": "code",
   "execution_count": 348,
   "id": "6db3d4cb-6409-478f-bee1-b58090c15924",
   "metadata": {},
   "outputs": [],
   "source": [
    "data = pd.read_csv(\"dataset/air-passengers-carried.csv\")"
   ]
  },
  {
   "cell_type": "code",
   "execution_count": 349,
   "id": "2e4679e5-875d-42f8-b33c-4160ded01d76",
   "metadata": {},
   "outputs": [
    {
     "data": {
      "text/html": [
       "<div>\n",
       "<style scoped>\n",
       "    .dataframe tbody tr th:only-of-type {\n",
       "        vertical-align: middle;\n",
       "    }\n",
       "\n",
       "    .dataframe tbody tr th {\n",
       "        vertical-align: top;\n",
       "    }\n",
       "\n",
       "    .dataframe thead th {\n",
       "        text-align: right;\n",
       "    }\n",
       "</style>\n",
       "<table border=\"1\" class=\"dataframe\">\n",
       "  <thead>\n",
       "    <tr style=\"text-align: right;\">\n",
       "      <th></th>\n",
       "      <th>Entity</th>\n",
       "      <th>Code</th>\n",
       "      <th>Year</th>\n",
       "      <th>Air transport, passengers carried</th>\n",
       "    </tr>\n",
       "  </thead>\n",
       "  <tbody>\n",
       "    <tr>\n",
       "      <th>0</th>\n",
       "      <td>Afghanistan</td>\n",
       "      <td>AFG</td>\n",
       "      <td>1970</td>\n",
       "      <td>84700.0</td>\n",
       "    </tr>\n",
       "    <tr>\n",
       "      <th>1</th>\n",
       "      <td>Afghanistan</td>\n",
       "      <td>AFG</td>\n",
       "      <td>1971</td>\n",
       "      <td>97400.0</td>\n",
       "    </tr>\n",
       "    <tr>\n",
       "      <th>2</th>\n",
       "      <td>Afghanistan</td>\n",
       "      <td>AFG</td>\n",
       "      <td>1972</td>\n",
       "      <td>104900.0</td>\n",
       "    </tr>\n",
       "    <tr>\n",
       "      <th>3</th>\n",
       "      <td>Afghanistan</td>\n",
       "      <td>AFG</td>\n",
       "      <td>1973</td>\n",
       "      <td>96600.0</td>\n",
       "    </tr>\n",
       "    <tr>\n",
       "      <th>4</th>\n",
       "      <td>Afghanistan</td>\n",
       "      <td>AFG</td>\n",
       "      <td>1974</td>\n",
       "      <td>96100.0</td>\n",
       "    </tr>\n",
       "  </tbody>\n",
       "</table>\n",
       "</div>"
      ],
      "text/plain": [
       "        Entity Code  Year  Air transport, passengers carried\n",
       "0  Afghanistan  AFG  1970                            84700.0\n",
       "1  Afghanistan  AFG  1971                            97400.0\n",
       "2  Afghanistan  AFG  1972                           104900.0\n",
       "3  Afghanistan  AFG  1973                            96600.0\n",
       "4  Afghanistan  AFG  1974                            96100.0"
      ]
     },
     "execution_count": 349,
     "metadata": {},
     "output_type": "execute_result"
    }
   ],
   "source": [
    "data.head()"
   ]
  },
  {
   "cell_type": "markdown",
   "id": "6a35989f-1dad-4633-b987-d9533896da23",
   "metadata": {},
   "source": [
    "# Cleaning data "
   ]
  },
  {
   "cell_type": "code",
   "execution_count": 350,
   "id": "b73c0276-b103-416f-b24d-c96cf2221cf5",
   "metadata": {},
   "outputs": [],
   "source": [
    "data.rename(columns={\"Air transport, passengers carried\": \"Passengers\"}, inplace=True)"
   ]
  },
  {
   "cell_type": "code",
   "execution_count": 351,
   "id": "1e989718-b50f-4d76-a834-6f7fa7197254",
   "metadata": {},
   "outputs": [
    {
     "data": {
      "text/html": [
       "<div>\n",
       "<style scoped>\n",
       "    .dataframe tbody tr th:only-of-type {\n",
       "        vertical-align: middle;\n",
       "    }\n",
       "\n",
       "    .dataframe tbody tr th {\n",
       "        vertical-align: top;\n",
       "    }\n",
       "\n",
       "    .dataframe thead th {\n",
       "        text-align: right;\n",
       "    }\n",
       "</style>\n",
       "<table border=\"1\" class=\"dataframe\">\n",
       "  <thead>\n",
       "    <tr style=\"text-align: right;\">\n",
       "      <th></th>\n",
       "      <th>Entity</th>\n",
       "      <th>Code</th>\n",
       "      <th>Year</th>\n",
       "      <th>Passengers</th>\n",
       "    </tr>\n",
       "  </thead>\n",
       "  <tbody>\n",
       "    <tr>\n",
       "      <th>0</th>\n",
       "      <td>Afghanistan</td>\n",
       "      <td>AFG</td>\n",
       "      <td>1970</td>\n",
       "      <td>84700.0</td>\n",
       "    </tr>\n",
       "    <tr>\n",
       "      <th>1</th>\n",
       "      <td>Afghanistan</td>\n",
       "      <td>AFG</td>\n",
       "      <td>1971</td>\n",
       "      <td>97400.0</td>\n",
       "    </tr>\n",
       "    <tr>\n",
       "      <th>2</th>\n",
       "      <td>Afghanistan</td>\n",
       "      <td>AFG</td>\n",
       "      <td>1972</td>\n",
       "      <td>104900.0</td>\n",
       "    </tr>\n",
       "    <tr>\n",
       "      <th>3</th>\n",
       "      <td>Afghanistan</td>\n",
       "      <td>AFG</td>\n",
       "      <td>1973</td>\n",
       "      <td>96600.0</td>\n",
       "    </tr>\n",
       "    <tr>\n",
       "      <th>4</th>\n",
       "      <td>Afghanistan</td>\n",
       "      <td>AFG</td>\n",
       "      <td>1974</td>\n",
       "      <td>96100.0</td>\n",
       "    </tr>\n",
       "  </tbody>\n",
       "</table>\n",
       "</div>"
      ],
      "text/plain": [
       "        Entity Code  Year  Passengers\n",
       "0  Afghanistan  AFG  1970     84700.0\n",
       "1  Afghanistan  AFG  1971     97400.0\n",
       "2  Afghanistan  AFG  1972    104900.0\n",
       "3  Afghanistan  AFG  1973     96600.0\n",
       "4  Afghanistan  AFG  1974     96100.0"
      ]
     },
     "execution_count": 351,
     "metadata": {},
     "output_type": "execute_result"
    }
   ],
   "source": [
    "data.head()"
   ]
  },
  {
   "cell_type": "code",
   "execution_count": 352,
   "id": "1eb4ff33-7464-4b25-a898-7fb72ce1bb42",
   "metadata": {},
   "outputs": [
    {
     "data": {
      "text/html": [
       "<div>\n",
       "<style scoped>\n",
       "    .dataframe tbody tr th:only-of-type {\n",
       "        vertical-align: middle;\n",
       "    }\n",
       "\n",
       "    .dataframe tbody tr th {\n",
       "        vertical-align: top;\n",
       "    }\n",
       "\n",
       "    .dataframe thead th {\n",
       "        text-align: right;\n",
       "    }\n",
       "</style>\n",
       "<table border=\"1\" class=\"dataframe\">\n",
       "  <thead>\n",
       "    <tr style=\"text-align: right;\">\n",
       "      <th></th>\n",
       "      <th>Entity</th>\n",
       "      <th>Code</th>\n",
       "      <th>Year</th>\n",
       "      <th>Passengers</th>\n",
       "    </tr>\n",
       "  </thead>\n",
       "  <tbody>\n",
       "    <tr>\n",
       "      <th>1571</th>\n",
       "      <td>Cote d'Ivoire</td>\n",
       "      <td>CIV</td>\n",
       "      <td>1980</td>\n",
       "      <td>151100.0</td>\n",
       "    </tr>\n",
       "    <tr>\n",
       "      <th>4250</th>\n",
       "      <td>Luxembourg</td>\n",
       "      <td>LUX</td>\n",
       "      <td>2000</td>\n",
       "      <td>870831.0</td>\n",
       "    </tr>\n",
       "    <tr>\n",
       "      <th>6289</th>\n",
       "      <td>Senegal</td>\n",
       "      <td>SEN</td>\n",
       "      <td>1982</td>\n",
       "      <td>118300.0</td>\n",
       "    </tr>\n",
       "    <tr>\n",
       "      <th>7530</th>\n",
       "      <td>Uganda</td>\n",
       "      <td>UGA</td>\n",
       "      <td>1981</td>\n",
       "      <td>62600.0</td>\n",
       "    </tr>\n",
       "    <tr>\n",
       "      <th>475</th>\n",
       "      <td>Bahrain</td>\n",
       "      <td>BHR</td>\n",
       "      <td>1984</td>\n",
       "      <td>674200.0</td>\n",
       "    </tr>\n",
       "  </tbody>\n",
       "</table>\n",
       "</div>"
      ],
      "text/plain": [
       "             Entity Code  Year  Passengers\n",
       "1571  Cote d'Ivoire  CIV  1980    151100.0\n",
       "4250     Luxembourg  LUX  2000    870831.0\n",
       "6289        Senegal  SEN  1982    118300.0\n",
       "7530         Uganda  UGA  1981     62600.0\n",
       "475         Bahrain  BHR  1984    674200.0"
      ]
     },
     "execution_count": 352,
     "metadata": {},
     "output_type": "execute_result"
    }
   ],
   "source": [
    "data.sample(5)"
   ]
  },
  {
   "cell_type": "code",
   "execution_count": 353,
   "id": "c625649b-8399-40b3-95ac-6ccf513259d1",
   "metadata": {},
   "outputs": [
    {
     "data": {
      "text/plain": [
       "Entity          0\n",
       "Code          669\n",
       "Year            0\n",
       "Passengers      0\n",
       "dtype: int64"
      ]
     },
     "execution_count": 353,
     "metadata": {},
     "output_type": "execute_result"
    }
   ],
   "source": [
    "data.isnull().sum()"
   ]
  },
  {
   "cell_type": "code",
   "execution_count": 354,
   "id": "cd4fac73-e3aa-47df-9a36-5b62bd42df28",
   "metadata": {},
   "outputs": [],
   "source": [
    "# deleting all the unnecessary columns\n",
    "data.dropna(inplace=True)\n",
    "data = data.loc[data[\"Entity\"] != \"World\"]"
   ]
  },
  {
   "cell_type": "code",
   "execution_count": 355,
   "id": "8eb4877f-95ee-4d58-a5a7-4b9397b7ff7d",
   "metadata": {},
   "outputs": [
    {
     "data": {
      "text/plain": [
       "Entity        0\n",
       "Code          0\n",
       "Year          0\n",
       "Passengers    0\n",
       "dtype: int64"
      ]
     },
     "execution_count": 355,
     "metadata": {},
     "output_type": "execute_result"
    }
   ],
   "source": [
    "data.isnull().sum()"
   ]
  },
  {
   "cell_type": "code",
   "execution_count": 356,
   "id": "e393eeb9-6eac-4993-a160-68be549ae59d",
   "metadata": {},
   "outputs": [
    {
     "data": {
      "text/html": [
       "<div>\n",
       "<style scoped>\n",
       "    .dataframe tbody tr th:only-of-type {\n",
       "        vertical-align: middle;\n",
       "    }\n",
       "\n",
       "    .dataframe tbody tr th {\n",
       "        vertical-align: top;\n",
       "    }\n",
       "\n",
       "    .dataframe thead th {\n",
       "        text-align: right;\n",
       "    }\n",
       "</style>\n",
       "<table border=\"1\" class=\"dataframe\">\n",
       "  <thead>\n",
       "    <tr style=\"text-align: right;\">\n",
       "      <th></th>\n",
       "      <th>Year</th>\n",
       "      <th>Passengers</th>\n",
       "    </tr>\n",
       "  </thead>\n",
       "  <tbody>\n",
       "    <tr>\n",
       "      <th>count</th>\n",
       "      <td>7470.000000</td>\n",
       "      <td>7.470000e+03</td>\n",
       "    </tr>\n",
       "    <tr>\n",
       "      <th>mean</th>\n",
       "      <td>1995.943373</td>\n",
       "      <td>1.079945e+07</td>\n",
       "    </tr>\n",
       "    <tr>\n",
       "      <th>std</th>\n",
       "      <td>14.402358</td>\n",
       "      <td>5.150277e+07</td>\n",
       "    </tr>\n",
       "    <tr>\n",
       "      <th>min</th>\n",
       "      <td>1970.000000</td>\n",
       "      <td>0.000000e+00</td>\n",
       "    </tr>\n",
       "    <tr>\n",
       "      <th>25%</th>\n",
       "      <td>1984.000000</td>\n",
       "      <td>2.226475e+05</td>\n",
       "    </tr>\n",
       "    <tr>\n",
       "      <th>50%</th>\n",
       "      <td>1996.000000</td>\n",
       "      <td>8.625000e+05</td>\n",
       "    </tr>\n",
       "    <tr>\n",
       "      <th>75%</th>\n",
       "      <td>2009.000000</td>\n",
       "      <td>4.452803e+06</td>\n",
       "    </tr>\n",
       "    <tr>\n",
       "      <th>max</th>\n",
       "      <td>2020.000000</td>\n",
       "      <td>9.267370e+08</td>\n",
       "    </tr>\n",
       "  </tbody>\n",
       "</table>\n",
       "</div>"
      ],
      "text/plain": [
       "              Year    Passengers\n",
       "count  7470.000000  7.470000e+03\n",
       "mean   1995.943373  1.079945e+07\n",
       "std      14.402358  5.150277e+07\n",
       "min    1970.000000  0.000000e+00\n",
       "25%    1984.000000  2.226475e+05\n",
       "50%    1996.000000  8.625000e+05\n",
       "75%    2009.000000  4.452803e+06\n",
       "max    2020.000000  9.267370e+08"
      ]
     },
     "execution_count": 356,
     "metadata": {},
     "output_type": "execute_result"
    }
   ],
   "source": [
    "data.describe()"
   ]
  },
  {
   "cell_type": "code",
   "execution_count": 357,
   "id": "4cdacacb-fd0f-4467-bafe-2a66227c76b7",
   "metadata": {},
   "outputs": [
    {
     "name": "stdout",
     "output_type": "stream",
     "text": [
      "<class 'pandas.core.frame.DataFrame'>\n",
      "Index: 7470 entries, 0 to 8188\n",
      "Data columns (total 4 columns):\n",
      " #   Column      Non-Null Count  Dtype  \n",
      "---  ------      --------------  -----  \n",
      " 0   Entity      7470 non-null   object \n",
      " 1   Code        7470 non-null   object \n",
      " 2   Year        7470 non-null   int64  \n",
      " 3   Passengers  7470 non-null   float64\n",
      "dtypes: float64(1), int64(1), object(2)\n",
      "memory usage: 291.8+ KB\n"
     ]
    }
   ],
   "source": [
    "data.info()"
   ]
  },
  {
   "cell_type": "code",
   "execution_count": 358,
   "id": "050f864c-61ae-47fb-8eae-24b75b88d89b",
   "metadata": {},
   "outputs": [],
   "source": [
    "# changing the \"Passengers_Carried\" column data type\n",
    "data[\"Passengers\"] = data[\"Passengers\"].astype(\"int64\")"
   ]
  },
  {
   "cell_type": "code",
   "execution_count": 359,
   "id": "e19df252-7abb-4b1a-902f-306eb7257eef",
   "metadata": {},
   "outputs": [
    {
     "name": "stdout",
     "output_type": "stream",
     "text": [
      "<class 'pandas.core.frame.DataFrame'>\n",
      "Index: 7470 entries, 0 to 8188\n",
      "Data columns (total 4 columns):\n",
      " #   Column      Non-Null Count  Dtype \n",
      "---  ------      --------------  ----- \n",
      " 0   Entity      7470 non-null   object\n",
      " 1   Code        7470 non-null   object\n",
      " 2   Year        7470 non-null   int64 \n",
      " 3   Passengers  7470 non-null   int64 \n",
      "dtypes: int64(2), object(2)\n",
      "memory usage: 291.8+ KB\n"
     ]
    }
   ],
   "source": [
    "data.info()"
   ]
  },
  {
   "cell_type": "code",
   "execution_count": 360,
   "id": "58d2ac58-049b-4be6-81c4-e14019132175",
   "metadata": {},
   "outputs": [
    {
     "data": {
      "text/html": [
       "<div>\n",
       "<style scoped>\n",
       "    .dataframe tbody tr th:only-of-type {\n",
       "        vertical-align: middle;\n",
       "    }\n",
       "\n",
       "    .dataframe tbody tr th {\n",
       "        vertical-align: top;\n",
       "    }\n",
       "\n",
       "    .dataframe thead th {\n",
       "        text-align: right;\n",
       "    }\n",
       "</style>\n",
       "<table border=\"1\" class=\"dataframe\">\n",
       "  <thead>\n",
       "    <tr style=\"text-align: right;\">\n",
       "      <th></th>\n",
       "      <th>Year</th>\n",
       "      <th>Passengers</th>\n",
       "    </tr>\n",
       "  </thead>\n",
       "  <tbody>\n",
       "    <tr>\n",
       "      <th>count</th>\n",
       "      <td>7470.000000</td>\n",
       "      <td>7.470000e+03</td>\n",
       "    </tr>\n",
       "    <tr>\n",
       "      <th>mean</th>\n",
       "      <td>1995.943373</td>\n",
       "      <td>1.079945e+07</td>\n",
       "    </tr>\n",
       "    <tr>\n",
       "      <th>std</th>\n",
       "      <td>14.402358</td>\n",
       "      <td>5.150277e+07</td>\n",
       "    </tr>\n",
       "    <tr>\n",
       "      <th>min</th>\n",
       "      <td>1970.000000</td>\n",
       "      <td>0.000000e+00</td>\n",
       "    </tr>\n",
       "    <tr>\n",
       "      <th>25%</th>\n",
       "      <td>1984.000000</td>\n",
       "      <td>2.226475e+05</td>\n",
       "    </tr>\n",
       "    <tr>\n",
       "      <th>50%</th>\n",
       "      <td>1996.000000</td>\n",
       "      <td>8.625000e+05</td>\n",
       "    </tr>\n",
       "    <tr>\n",
       "      <th>75%</th>\n",
       "      <td>2009.000000</td>\n",
       "      <td>4.452803e+06</td>\n",
       "    </tr>\n",
       "    <tr>\n",
       "      <th>max</th>\n",
       "      <td>2020.000000</td>\n",
       "      <td>9.267370e+08</td>\n",
       "    </tr>\n",
       "  </tbody>\n",
       "</table>\n",
       "</div>"
      ],
      "text/plain": [
       "              Year    Passengers\n",
       "count  7470.000000  7.470000e+03\n",
       "mean   1995.943373  1.079945e+07\n",
       "std      14.402358  5.150277e+07\n",
       "min    1970.000000  0.000000e+00\n",
       "25%    1984.000000  2.226475e+05\n",
       "50%    1996.000000  8.625000e+05\n",
       "75%    2009.000000  4.452803e+06\n",
       "max    2020.000000  9.267370e+08"
      ]
     },
     "execution_count": 360,
     "metadata": {},
     "output_type": "execute_result"
    }
   ],
   "source": [
    "data.describe()"
   ]
  },
  {
   "cell_type": "code",
   "execution_count": 361,
   "id": "1521ad2c-b62f-48a8-b0fe-3c0f45cd6437",
   "metadata": {},
   "outputs": [
    {
     "data": {
      "text/plain": [
       "dtype('int64')"
      ]
     },
     "execution_count": 361,
     "metadata": {},
     "output_type": "execute_result"
    }
   ],
   "source": [
    "data[\"Passengers\"].dtype"
   ]
  },
  {
   "cell_type": "markdown",
   "id": "cc5b4428-bba5-4695-9149-11f673bc7d7e",
   "metadata": {},
   "source": [
    "# Exploritory Data Analysis (EDA)"
   ]
  },
  {
   "cell_type": "code",
   "execution_count": 362,
   "id": "47f7b8aa-bece-4696-bb9e-8da630256950",
   "metadata": {},
   "outputs": [],
   "source": [
    "import matplotlib.pyplot as plt\n",
    "import seaborn as sb"
   ]
  },
  {
   "cell_type": "code",
   "execution_count": 363,
   "id": "a15bbe05-73a6-416b-942f-6a1ddf69563a",
   "metadata": {},
   "outputs": [],
   "source": [
    "sb.set(rc={\"figure.figsize\": (25, 5)})"
   ]
  },
  {
   "cell_type": "code",
   "execution_count": 364,
   "id": "03b06664-5f82-4d3c-902f-218ec0f4a665",
   "metadata": {},
   "outputs": [
    {
     "data": {
      "text/plain": [
       "<Axes: xlabel='Entity', ylabel='Passengers'>"
      ]
     },
     "execution_count": 364,
     "metadata": {},
     "output_type": "execute_result"
    },
    {
     "data": {
      "image/png": "[encoded data removed]",
      "text/plain": [
       "<Figure size 2500x500 with 1 Axes>"
      ]
     },
     "metadata": {},
     "output_type": "display_data"
    }
   ],
   "source": [
    "entity_passengers = data.groupby([\"Entity\"], as_index=False)[\"Passengers\"].sum().sort_values(by=\"Passengers\", ascending=False).head(10)\n",
    "\n",
    "sb.barplot(x=\"Entity\", y=\"Passengers\", data=entity_passengers)"
   ]
  },
  {
   "cell_type": "markdown",
   "id": "b25bf9c8-d654-4c6e-878e-50bc1a82d10f",
   "metadata": {},
   "source": [
    "*The above graph shows the 10 most popular destination people liked to travel. From the graph, it is clear that people traveled to \"United States\". It shows the numebr of tourist from 1970 to 2020.*"
   ]
  },
  {
   "cell_type": "code",
   "execution_count": 365,
   "id": "921a25d2-9c35-4f14-bb1d-a2a4be7f1415",
   "metadata": {},
   "outputs": [
    {
     "data": {
      "text/plain": [
       "<Axes: xlabel='Year', ylabel='Passengers'>"
      ]
     },
     "execution_count": 365,
     "metadata": {},
     "output_type": "execute_result"
    },
    {
     "data": {
      "image/png": "[encoded data removed]",
      "text/plain": [
       "<Figure size 2500x500 with 1 Axes>"
      ]
     },
     "metadata": {},
     "output_type": "display_data"
    }
   ],
   "source": [
    "year_passengers = data.groupby([\"Year\"], as_index=False)[\"Passengers\"].sum().sort_values(by=\"Passengers\", ascending=False).head(10)\n",
    "\n",
    "sb.barplot(x=\"Year\", y=\"Passengers\", data=year_passengers)"
   ]
  },
  {
   "cell_type": "markdown",
   "id": "ae859297-8e32-48ed-b376-37969e638f38",
   "metadata": {},
   "source": [
    "*The above graph shows the number of tourist per year. In 2019, people visited to foreign places the most.*"
   ]
  },
  {
   "cell_type": "code",
   "execution_count": 366,
   "id": "e477223f-2770-4843-9f78-06956eac9b2d",
   "metadata": {},
   "outputs": [
    {
     "data": {
      "text/plain": [
       "<Axes: xlabel='Entity', ylabel='Passengers'>"
      ]
     },
     "execution_count": 366,
     "metadata": {},
     "output_type": "execute_result"
    },
    {
     "data": {
      "image/png": "[encoded data removed]",
      "text/plain": [
       "<Figure size 2500x500 with 1 Axes>"
      ]
     },
     "metadata": {},
     "output_type": "display_data"
    }
   ],
   "source": [
    "entity_year_passengers = data.groupby([\"Entity\", \"Year\"], as_index=False)[\"Passengers\"].sum().sort_values(by=\"Passengers\", ascending=False).head(10)\n",
    "\n",
    "sb.barplot(x=\"Entity\", y=\"Passengers\", hue=\"Year\", data=entity_year_passengers)"
   ]
  },
  {
   "cell_type": "markdown",
   "id": "0828e477-5a3c-4e98-8ad9-78d8ce81cd39",
   "metadata": {},
   "source": [
    "*The above graph group the number of tourist visited to a country based on the year data. Ths graph shows the 10 years in which the tourist visited the most to the \"United States\". The second place is \"China\" and so on.*"
   ]
  },
  {
   "cell_type": "markdown",
   "id": "86325467-002f-4fb9-a70d-66e96e250893",
   "metadata": {},
   "source": [
    "## From the above analysis, it can be said that \"United States\" is the most famous place amoung tourists. The number of tourist keeps on increasing every year.\n",
    "\n",
    "*Note: All the values are shown in millions.*"
   ]
  },
  {
   "cell_type": "code",
   "execution_count": null,
   "id": "bf2e8d8a-a25a-4b62-aa08-3734aa6b57c0",
   "metadata": {},
   "outputs": [],
   "source": []
  }
 ],
 "metadata": {
  "kernelspec": {
   "display_name": "Python 3 (ipykernel)",
   "language": "python",
   "name": "python3"
  },
  "language_info": {
   "codemirror_mode": {
    "name": "ipython",
    "version": 3
   },
   "file_extension": ".py",
   "mimetype": "text/x-python",
   "name": "python",
   "nbconvert_exporter": "python",
   "pygments_lexer": "ipython3",
   "version": "3.11.4"
  }
 },
 "nbformat": 4,
 "nbformat_minor": 5
}
